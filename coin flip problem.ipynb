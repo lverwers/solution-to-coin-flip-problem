{
 "cells": [
  {
   "cell_type": "code",
   "execution_count": 44,
   "metadata": {},
   "outputs": [
    {
     "name": "stdout",
     "output_type": "stream",
     "text": [
      "The probabiliity that ht wins is about 53.6897 percent\n",
      "The probabiliity that hh wins is about 32.2725 percent\n",
      "The probabiliity that hh wins is about 14.0378 percent\n"
     ]
    }
   ],
   "source": [
    "#note: n controls how many times the simulation will run\n",
    "#1,000,000 was used for testing purposes but be aware\n",
    "#that it will take 5 - 10 minutes to run depending on your\n",
    "#computer. Use smaller n for less computation time, larger n \n",
    "#for greater accuracy. \n",
    "import random\n",
    "hh = 0\n",
    "ht = 0\n",
    "tie = 0\n",
    "c = 0\n",
    "n = 1000000\n",
    "while c < n:\n",
    "    list = []\n",
    "    x = 0\n",
    "    while x < 72:\n",
    "        list.append(random.randint(0,1))\n",
    "        x+= 1\n",
    "    a = str(list)\n",
    "    b = a.find(\"1, 1\")\n",
    "    list2 = []\n",
    "    y = 0\n",
    "    while y < 72:\n",
    "        list2.append(random.randint(0,1))\n",
    "        y+= 1\n",
    "    d = str(list2)\n",
    "    e = d.find(\"1, 0\")\n",
    "    if e > b:\n",
    "        hh+= 1\n",
    "    elif e < b:\n",
    "        ht+= 1\n",
    "    else: \n",
    "        tie+= 1\n",
    "    c+= 1\n",
    "print(\"The probabiliity that ht wins is about \" +str((ht*(100/n))) +\" percent\")\n",
    "print(\"The probabiliity that hh wins is about \" +str((hh)*(100/n)) +\" percent\")\n",
    "print(\"The probabiliity that hh wins is about \" +str((tie)*(100/n)) +\" percent\")"
   ]
  },
  {
   "cell_type": "code",
   "execution_count": 46,
   "metadata": {},
   "outputs": [
    {
     "name": "stdout",
     "output_type": "stream",
     "text": [
      "The average number of flips for HT is 5.9899\n",
      "The average number of flips for HT is 3.9616\n",
      "The median for HH is 4.0\n",
      "The median for HT is 3.0\n",
      "The 25th percentile for HH is 2.0\n",
      "The 25th percentile for HT is 2.0\n",
      "The 75th percentile for HH is 8.0\n",
      "The 75th percentile for HT is 5.0\n"
     ]
    },
    {
     "data": {
      "text/plain": [
       "[<matplotlib.lines.Line2D at 0x1e1c8778080>]"
      ]
     },
     "execution_count": 46,
     "metadata": {},
     "output_type": "execute_result"
    },
    {
     "data": {
      "image/png": "[encoded data removed]",
      "text/plain": [
       "<Figure size 432x288 with 1 Axes>"
      ]
     },
     "metadata": {},
     "output_type": "display_data"
    }
   ],
   "source": [
    "#note: again, n controls how many times the simulation will run\n",
    "#1,000,000 was used for testing purposes but be aware\n",
    "#that it will (again) take 5 - 10 minutes to run depending on your\n",
    "#computer. Use smaller n for less computation time, larger n \n",
    "#for greater accuracy. Use only even numbers for n in this program.\n",
    "import random\n",
    "import matplotlib.pyplot as plt\n",
    "c = 0\n",
    "list3 = []\n",
    "list4 = []\n",
    "n = 1000000\n",
    "while c < n:\n",
    "    list = []\n",
    "    x = 0\n",
    "    while x < 72:\n",
    "        list.append(random.randint(0,1))\n",
    "        x+= 1\n",
    "    a = str(list)\n",
    "    b = a.find(\"1, 1\")\n",
    "    list2 = []\n",
    "    y = 0\n",
    "    while y < 72:\n",
    "        list2.append(random.randint(0,1))\n",
    "        y+= 1\n",
    "    d = str(list2)\n",
    "    e = d.find(\"1, 0\")\n",
    "    list3.append((b+5)/3)\n",
    "    list4.append((e+5)/3)\n",
    "    c+= 1\n",
    "average = sum(list3)/n\n",
    "average_2 = sum(list4)/n\n",
    "#average number of flips for HH\n",
    "print(\"The average number of flips for HT is \"+str(average))\n",
    "#average number of flips for HT\n",
    "print(\"The average number of flips for HT is \"+str(average_2))\n",
    "list3.sort()\n",
    "list4.sort()\n",
    "print(\"The median for HH is \"+str((list3[int(n/2)]+list3[int((n/2)+1)])/2))\n",
    "print(\"The median for HT is \"+str((list4[int(n/2)]+list4[int((n/2)+1)])/2))  \n",
    "print(\"The 25th percentile for HH is \"+str((list3[int(n/4)]+list3[int((n/4)+1)])/2))\n",
    "print(\"The 25th percentile for HT is \"+str((list4[int(n/4)]+list4[int((n/4)+1)])/2))  \n",
    "print(\"The 75th percentile for HH is \"+str((list3[int((3/4)*n)]+list3[int(((3/4)*n)+1)])/2))\n",
    "print(\"The 75th percentile for HT is \"+str((list4[int((3/4)*n)]+list4[int(((3/4)*n)+1)])/2))  \n",
    "list5 = []\n",
    "for i in range(n):\n",
    "    list5.append(i/100)\n",
    "plt.plot(list5, list3, \"ro\")\n",
    "plt.plot(list5, list4, \"b.\")"
   ]
  }
 ],
 "metadata": {
  "kernelspec": {
   "display_name": "Python 3",
   "language": "python",
   "name": "python3"
  },
  "language_info": {
   "codemirror_mode": {
    "name": "ipython",
    "version": 3
   },
   "file_extension": ".py",
   "mimetype": "text/x-python",
   "name": "python",
   "nbconvert_exporter": "python",
   "pygments_lexer": "ipython3",
   "version": "3.6.5"
  }
 },
 "nbformat": 4,
 "nbformat_minor": 2
}
